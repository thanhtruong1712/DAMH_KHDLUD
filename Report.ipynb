{
  "cells": [
    {
      "cell_type": "markdown",
      "id": "5b2dcf7c",
      "metadata": {
        "id": "5b2dcf7c"
      },
      "source": [
        "# **Báo cáo đồ án môn \"Khoa học dữ liệu ứng dụng\"**\n",
        "\n",
        "Nhóm 7:\n",
        "1. 1712770 - Trương Thị Lệ Thanh - thanhtruong1712\n",
        "2. 1712771 - Bùi Thái Tấn Thành - thanhtan0501\n",
        "3. 1712778 - Thống A Thảo - thaothong21\n",
        "\n",
        "Link thùng chứa Github của nhóm: [https://github.com/thanhtruong1712/DAMH_KHDLUD]"
      ]
    },
    {
      "cell_type": "markdown",
      "id": "2f93d974",
      "metadata": {
        "id": "2f93d974"
      },
      "source": [
        "## **Mô tả bài toán**"
      ]
    },
    {
      "cell_type": "markdown",
      "id": "dc0bf646",
      "metadata": {
        "id": "dc0bf646"
      },
      "source": [
        "### Giới thiệu bài toán\n",
        "\n",
        "* **Tên cuộc thi**: [University of Liverpool - Ion Switching](https://www.kaggle.com/c/liverpool-ion-switching)\n",
        "* **Mô tả**: \n",
        "  - Cuộc thi được diễn ra vào 25/2/2020 và kết thúc vào 26/5/2020 với tổng giải thưởng $25.000 với sự hợp tác của Đại học Liverpool. Trong cuộc thi này, chúng ta được cung cấp các tín hiệu điện tương ứng với dữ liệu kênh ion, và mục tiêu là tạo ra một thuật toán có thể tự động xác định số lượng kênh được mở tại mỗi thời điểm.\n",
        "  - Kênh ion là các màng protein tạo lỗ có ở động vật và thực vật cho phép các ion đi qua lỗ kênh. Chúng mã hóa khả năng học tập và trí nhớ giúp chống lại nguy cơ nhiễm trùng và kích thích co cơ. Các kênh ion này có thể được ghi lại thông qua kỹ thuật kẹp dính mảnh màng(patch clamp) và được phân tích để suy ra một số đặc tính của bệnh \n",
        "* **Input**: Tập dữ liệu tín hiệu điện sinh lý\n",
        "* **Output**: Dự đoán số lượng kênh ion được mở tại mỗi thời điểm.\n",
        "* **Độ đo**: Ta có tập train gồm 5 triệu dòng, trong khi tập test gồm 2 triệu dòng. Mục tiêu của cuộc thi này là tối ưu hóa điểm số F1 trên 2 triệu dòng đó. Điểm F1 được định nghĩa là trung bình điều hòa (harmonic mean) giữa precision và recall.\n",
        "![1_HWciPNLkZkWQj7nwq91HRw.png](data:image/png;base64,iVBORw0KGgoAAAANSUhEUgAAAeAAAABICAIAAAChjrH1AAAZTElEQVR42uydO2zj2NX4Se8CO2mG1AJ/7KYZSVMsMI1JbZOkMakpAizwhyVNlWksyanSmNSkSKaIHga+Yovo4U2xWWD1cLVTxKLdpRiRdJpvGpOaalKsSE01wIcVqQEC7BQRP3w+yQVDPSzbkseWz6/Sg7q6vLw8POfcc8/50PM8CkEQBLl+rOEQIAiCoIBGEARBUEAjCIKggEYQBEFQQCMIgqCARhAEQVBAIwiCICigEQRBUEAjCIIgKKARBEFQQCMIgiAooJeJYRjFYhGvOjIb0zRlWcZxQFBAXx2O46RSqUwmg1cdmQ3P847jVCoVHArk/fLh7TnVeDxeqVQikQhedeRMqtVqLBbjeT4ej+NoIO8L+pakG5Vl2bKsw8NDvOTInKiqmkqlbNtmWRZHA0EBvcQ77eHDh71eLxqN4iVH5kcUxXA43Gq1cCgQFNDLgud5QRBqtRpeb+RcWJZ1//79TqeDjg4EBfRSaDQa29vbqD4jFyOdTh8fH1uWhUOBzMA+xTRNnudFUQy8vXCzKx7F4XlesVjc2tpC6TwN4xQch2lkMhnbtlVVxaGYh3a7TdP0mQEwPM9Ho1HXdVdJQMuynMvlYKrYtl2tVslbFNCTaTabr1+/xtC6aaJZFMVcLpdKpUKhULvdxjEZJx6Pcxy3u7uLQzGnnIJA8nn0TcdxVubERVFUFGXaWxTQUwV0OBy+jImxqliWlcvlFEXRNM22bUEQHj16hHriNC+HpmloZ8xDLpc7OTk5c1nVtu3V8zqGw+GFt7m22jLo+Pg4kUjQNI13TgBN03RdLxQK8FaSJIqiSqUSjsw4yWQSHvY4FPMQi8XOPIZl2ZsinedfpVuGnFnljSpgs8PdhYzfIQFDntinSIBoNMpx3NHRUbVavaEPe03T4OmbTqc9zzs8PKRpWhAE2NFu23Yul3Ndl+O4jY2Nr776ShRF8vAuFArdbhfmTLVaJTPHMIzd3V3HcRiGicVixWLR3061WqUoynVdWZbv3r379u1bmqbX19dzuVy1WoUdCZVKhed5aE1V1VqtFolETNMsFApkQmazWYqiYBmpVqu5risIwnkTNpB/lCRJURTXdYvFIvw1/C/LsrZtS5KUSqXIrwqFwvHx8d27d9fW1gqFAhzfbrehKcdx4KynifLFxF94qwvHcRRFjUYjD5nEYDAgr09OTiiK2tzcxGGZSD6fpyjq5OTkhvbfsixYuGMYptFojEaj58+fMwyTTCY9z3Mcp91uh8NhlmXL5XI6nQYD1PM8QRASiQQ0kkgkeJ6H1wcHBxRFHRwceJ5XLpcpiqrX647jwOeCIMBhgiDAMTCG+XweJlsikQDhCF+Vy2WO4xzHgWnJcVy5XIaONRoNWFTc2dkZjUaDwYBhGGhnfgzDgJPiOA78ePCggt7CZQUXVqfTIdJDEAToEsMwkUgEhpGiKBiQH374IRwOQzvAaDSiKIr0Dd4WCoXLXDhqhaWPf6Igs4HpS2YnEqDT6fjvvZtIQHx4nvftt9+CYCXCFDQ2y7LgQxCOZFbAIBiG4TgOy7JEcBuGIQiCYRikHXLfgZpMHhLkv0AygoDu9Xr+bpBve70eaYTjOPKtv/3x59C0hyjIZZD79XodHj/hcJicBQhleAvPY9KBnZ0dImc3NzdJV+EwogKOj/Dl58yHK+xjhbVUtNDnGatWq1Wv13E7xjRgIum6vkonBZdb0zRwI4BCQ1FUJBKBT8BJqJ1CUdRwOASpyvM8+DHgVzzPwwHjdr0gCLlcrlar8TyfTCbJH/k9bBDt4E+SA98qipLL5SZ65KbB8/xwODw5OZnmBwc3BXRDVdV+vx+NRokzZzgc9vt9cqFJl/x73A4PD13XVRTFNM3j42Nw44RCoSVdoxUX0DDhkBnYtp1Kper1Orl5kImsr6/ruu553sqsOYMAApE0EZDIhUKBnHKlUqFpekZEZmBwFEWpVCrKv+n1euAK9x82Hg0N314gSlqSJE3TZiw/jl+7jY0N4kcmL0zTZFl24oWWJGlvb29nZwcWtzRN63a7y1MEVzaKgyxroGSZgeu6mUym0+mAdAaTFpl4Y4M4I6riyigxRBEeB/Sb4+Nj2sfs2yqgQSuKUiqVut1ur9dLp9N7e3twgP+w8dbg2wvcvKVSSdf1+dVtUFDo/wS+cl13fJWvUqns7e395S9/qdVq8XicHLC8EMzVFNCe50GoPFkjRiZK52QyWalUiD2IWYHmuZ9v7jOGKMV+38KMMKdMJsMwjD86vlAoNBqNeDy+vr6+v79PPjcMAwJC/Fqn53nZbBZ2o0Sj0UwmM1Ephn/xb+vQNI1hmMXuLxuXtqFQaHNz8+joiPQK9BUSdeoPrPT7uB49euTX/T3PI66YhfPBSlYYcV13d3eX47jf/OY3KFmm8atf/eonP/mJ67rgZMzlcp988snjx49xZKb5gg4PDzmOu6Gees/zSqXSq1ev7pzy7NmzUqlULpcfP34M+5IPDw/fvXs3HA49zwMvQSgU+uSTT0ql0o8//gjiybKsp0+fUhT1i1/84rvvvlMUJRKJ2Lb99OnTr7/++s2bN6Qd13VFUSyVSn/9619/9rOf/fjjj3t7exsbG1988UWj0djb2wPVlWGYBw8e/PznP3/69OmdO3fevXt3eHj49ddff/fddw8ePICO6bpO07TrupFIxN9+JBKZU1luNpv7+/uvXr2iado0TeKR+OKLLzRN+/Of//zpp5++efPm97///e9+97uf/vSnDx48cF33yy+//PTTT4fDIex3i8fjH3300bNnz/r9Ps/ziqK8ePHi73//eygU+uijj0KhUK1We/HiBU3TnufBr3RdHw6Hb968ubAPZMHJkma0dpWeO8gvKgjCKhmkiwUSBQQ+zOfzuFdlVSeV53lra2v5fJ7nebAvM5kMCGJI63P37l1QsUOhkF+gWJYFscNk8RBwHEdRFMiXnc1mIZRYVVWISOt2uxDynEgkQBXleR6ijEHekeU1+C/HcZrN5nA4BN0Zlt1s2zYMg2EYmqZ1Xc9kMtBPkLOpVGrO+huKojAMA9Lp5cuXgXpmjUYDDCMyIOSKk1gD8lS2LAtOB2yCdrsNwdqmaVqWFYlEXNcdDoeRSATeep53fHx8cT14gXE8ENs4jUvGA56Ler0Owe0YHzY77ioAjskMIFT8CgI3y+VyIpGQJIlEEC8pzA65/izSB60oCgRyk0kM93yv1wuHw1eZ1xSeh1jd6kyn5PjyCDLbB93tdpc6k0VRZFlWkiSGYR49euTf2LYQHzRe5ZvF2sLNQH9wG8yGaDSaTqdxvQ5ZjeWN5TUOQWypVCoej5dKpa2tLUVRFhJa02g0wGlQKpX84QfI7RLQ4LIh/hrbtsmEvsqItzOzHSLINaTf72uaRpIpQ0TBQlzeEE1B9tShHn0bBbTneRCGQjRoiFYBkT1PjqtFAbFEqLMjy2B5kXaZTCaRSATcGpjB6jbz4WInbr/fB+nsum6r1ep2u6A4zx9lApm8Zx/D8/w8+jjuUkEWCE3THMd1u13btmenypxHRZ14R0DwFnkLr7HcBAroRfo3bNsGF4eu61tbW+Pyd/banaqq89R/wyQbyBUDWc3mvBFmO3lhX+LsG8F13f39/Y2NjWlb8Fdp0zlydQIaNhpRFCXLMtlFatt2s9lUFCWZTM4OCbyyjBDff//9N998gzMAIXz22We//vWvL9/OQmLJk8nk+vo6pB4eBzJCHBwcTAzzePbsGQQFIteWUql0586dKxXQ4IAmui1UUSTehkBw+Hvnn//85z/+8Q+cKAjh3bt316Qn6XQ6EolcuIbLu3fvcG5ff4PsSjVoy7LAAU3MLr83bX53cKPRmJFei/g3Lu/i+Oyzz/70pz/hREHm58yZCfjTv00jk8lMc3FA9kuQzo7jlEolqE7ip1arlUqlabfV1il4vdDFEfRvXD69pyiKZ/qgcQcKcp0FtCiK8/igpykojuO0Wi1oQdf1aY5vXANHAT0XEHdxdHREUdTHH3+sadqMBZAzFfvoKVdpRCDIuThTP7hwNqV2u729vU1R1FdffUU+hIJSyOry318+3nubrf3XL//fUgS0oiiO46yf0j5FluX3q+SC0jGnvoMgixXQF0bX9Y2NjUWJe+SG8PZ748X//P93y9Kgr9vqH8STHh0drUyEv2EYR0dHnuetZG7Y94VpmvPnq7waxn3NNwIosDI7bYjrurVaTZKkW+KZEUWRpmnbtnu9Hk3TsixDBH2j0RhbP/vlN6++n9bOFSXsd11X1/V+v//69Wtd15ea0GDF0DRN1/UZRYaQC8jBZDIZi8XOlRIAnvdzhkLfHhzHeXTK7MMKhUKxWCS72FeeYrHIMAzRETOZjCAItm2f1+96dQJaVdV7p6iqumwBDUboamjQoijKsowrQgtEluULPPBgOvE8j9tD/IRCoXQ6TZI6TCOVSgmCsMDkfNNszQvHJi78tvXXEuN5/mIBFFdUNDYSiVyleX5mNcyr1zJevnzJcRzIWc/zoLQlhqMgK8A8MlEUxSsodOC67jz7kG8Qq1mTENIkTSz7+F6mbzQaFUURKks2m81QKPTw4cPzppG80UEpsiyfmVPCNM14PH5t65WAP+Rm1YlXVRVmneM4UJI8cEawucyyrEDZU8MwNE0br4VKCqT55SBpx/+/cAxxIjmOo2lawKiFD8evOLj1yAHLkLmqqkLfDMMI9Ip0PvATy7Kgt1BlMXAKS6obu5oCmmVZhmGgsPd7J5PJ+PfsZDKZwITQNK0wiUu6aK6Vh6dWq7VardmTuN1ua5q2kPTHcI+Nc0nt7AbF4JumyfP8w4cPt7e3E4mELMv1en1tbY0YsrIsx2IxURQlScrlcp9//jnMUtd1IRu167rZbNZfUrbRaEA6J1VV79+/DxtqSDsg/W3b5nkenK25XC4Wi0EF51gsFo/H/Re3XC7H43HHcQzDiEQipDQtz/PxeFwUxWazWSqVNE2LxWLwX2cyp/cJRkaWZUEQoJNws5imGY1GofRiLBbze8wlSYrH46qqNpvNjz/+GHprmub9+/dBZEOibb/zNtCZCxZMWNVSMaDp9Hq969AZuJydTod8ct7iQ4IgnOv4TqdzrYobdTqder0++xjHccrlsmVZC/m7iQTqP6mqet4Z5W/kRtwFDMOcnJzAW5A45XIZ3oLUkySp1+sxDAMVtjY2NjiOgwMGgwFFUXDhOp0ORVFwTK/XoygqkUj424HySTs7O+l0mnQgHA6TUmr+OV8ul8PhMElRDZlDSD/Bo036mc/nSfuLmvZwNQ9OYRim1+sNBgOWZXd2dvxl80CA5PN5OIZ8Dn2DEHV47TgOwzD+MnuBbsMAnnf+rKyA3tnZuT63U0BAX6A63E0X0NewHuO5BPRoNII6pzercqNwir/P4XCYZVm/BPHfIyAo8/k8KVMJLRCJRpo6OTkh4jUgoFmWLRQKkNKPyNyAgA7IMvhkc3PT37HBYOB/O/FiBYpqwrSfp9Jm4HSItH3+/Dn86ocffgDhC1PFX4vSP2KkV/6xWqCA/nBVFy5EUdzb29M0bXacf7vdBk+ILMuw1pHJZGApz3GcWq2m67ogCOl02r+/sd1uQ7Agz/PkeMuyWq0WHC8IwqL2FxDbvN/vF09Z4ChVKhUobiBJ0uHhISSDTSQSUB6JDE4ymTRNE7JfkcFptVqHh4fzDA5phySgsCxrf3/fNE1BEPr9fqVSgThZz/MCiVYajQb81h8DQLpdLBZVVdV1nWVZciHmMf9hARnylc9T2MF13UCqmRtKJBLRdd1xHLjEgS3jYOm3Wi2/OwjcFLCJhpy+v/6G37VdKpV0XS+dwrJspVKBI/3HGIYxHA4DG4Z5nn/58qU/hyrp4QxSqZTfIzwcDsFLHnCvTbzEgYhJcEk/efKEfL6xsREKhcaTWARu7Ww2C6XH+/3+uAdsoqMDXRz/ss7OrMHcaDQgGiaRSIABCNXHT05OYHrBk5BlWWJ6b21tcRx3cnICj1Yw9MA+AuPu+fPnDMP4LXrQoP0P22WXOVdVdR4NGmw3mIv1er3T6XCnwMmSwREEAQYHTtAwDJZliZXHMExgcNrt9mg0YhgGXJP1eh3agREwDCMcDoPBCGrFaDSyLAuMHn+3E4nE1tbWYDDo9XrpdDqZTJJuQ4OSJNXrdVVVBUHgeX7OwTEMQ/03hmHM85ODg4ObWBJ7XIMGQQPK6bjrAC7H+GnC1Zx2N01sZ2dnB2wOuNB+qxH0dOJMIKr9vXv3oJFAgzM06Mu4OAKnM25PBKyK8UaIuwO6ugwNmlphMxbC2ub0P5TLZcdxtra24I4Nh8P+sQ6HwzCfwA4io8xxHFhqlmUxDEPmHBh6C/RBL0lAj5uT8GADwUp6LkkSCF+4SQRBIG5KGAQQ3CDF/INDxhCsYPh5Pp/3C1O/BPEPSz6fh2Lwfis44D8lT0GIa55T2l7YY+Y32G+ogGYYhowqjGFgGYBhGL8TGZ7T8LD0zxPyeUASCYJArsJgMAiHw3CNAm69gLj36zrvS0DD7PXrVZZlwZ8yDBN4/DcaDeiz/0aANg3D+Pbbb6cJ6HMte3iet7bC4ZlbW1uu684Z/gJltFqtFs/zhmH0+/1oNEr0rFAoBIY2JFAnNrhpmq1WCyxHMNIhFuft27dXvFtS/U9M03z9+nXgwxldInZuKBQSBCEQSwQ3Z6vVglyDuq5PHJxarRYYHGJs+oP2I5EILOsXi0VFUTRNG7f7PM+r1WoBg5HneXCDEJOZmMlgByxvzHVdD4fDN7HKZbfbJbFu4BoKxMn4t1OC+9gfb9NoNCDgDKR5LpcjMWck/Dlw+Ui9AvBRTCxG2mg0dF0n/1KtVhmGIVET4L8iXpEluZUCUV6wlWZvb4/MfEmSwAgoFAqmaZJxI2PCMAzpm2EYEBoI3rDxsA04qfPy4QoL6FQq9dvf/rbZbM6uVzseXwz3OdHpKIr64x//CLMNXMwTZ0y73X7y5Mm9e/fAEr/6okT+E/Gr6udFEARd1yEqebwFsuOZfPWHP/wBTtM0TZZlJ56y39GZzWZt24aMxiB2J8bbTpzQgc1HgajkJYWKW5bV7XZ3dnZuogM6HA43m81qtTocDk3T7HQ64EIVRREECtwdo9EIzi6Xy7EsG4/HQWWJRCKQISQWi52cnKRSqVgsBjq4oij/p+Kt/UvJW1tbAyURXFuiKJqmKUkSz/OFQmF3d5eiqN3dXV3XNU1LpVIHBwfZbDYajYJAVFU1Go36G/zggw/y+bx+Cnh+8/n85avV+P+CpmlQR+CtoiiFQiEajaZSKcuyMpkMaAAwJrlcbn9/H0wQ0EVUVU2lUvF4nOM427br9fr29nb1FDJVaJoOnIX/H2+vDxrY2NgImMnTXBx+02Oa12k0Gq2vr7MsO740DPbReGAQHHmdXRz+JXhgc3OTuA7HBwdCrAIOxGkr4wHnJrRjWRYEABiGAQM1bgWPL53D1WQYBtoPmOcXsx/nBFyNN86/4TfkR6OR3zsxT9RKr9ebeCkHp8yIlSSH+X8Or8cbDBwW6MOMt5cPXprxv9NiPSeOyWAwIGc9/u0FzuK2uDggbKDf75MY+Dk16FgsxnEcZLgmyLJM07Qoiq7r+q1CSOYHT1SS2I9of/4F3xuxFdBxnOPjY47jQHcY73M0Gt3Y2BgfHKLP+rUDEnPiV4cbjQa4jHmeL5VKkEQmYMnSNL21tdXtdv0d6Ha7iUTCf9jVDGmtVhMEYbYdds2haXqeoAj/8dFodKLFEDplHl9Z4IJOdFYEDrtk/ANsh5n/HKd9Pm070sQxCYVC5KzHv71kFMfqC+h79+7NyBVgmubx8THc/H7JAm4mWZZhvzgkowL/Gsdx29vb4IRqt9sgI+Bb8FAbhgGbsg4PD1mWtW0bvF1/+9vfIFgNvn39+vX12daczWbhiS3LMqyBzBicWq3mOE42m4XBkSTJPzhPnjwBl4WqqmC9mqYJIwMZFyGYCR5y4LDLZDIkOurly5dgDNZqNYZhstksqCfpdJplWXgQapoGvo5Wq2Xbtr+f50pQNw+GYXS73Tl3sl0fYDz7/T5cu1uSP5Jl2RWr90+vfNmRRqOxvb09GAwmPvar1epgMIDH2nA49CfktSyrWq12u12GYWRZ9j+ZK5UKSBxBEIhTrNFotFotSDFcLBZhr3atVvPv64eHM7yFdLFLSr6laZqqqvM47IrFYqlU6nQ6IPtgmQjU52q1ShZMAoPjOE6xWARpKMuyP0vZ+OAUi0UyzcDPGAqFFEVxTykUCvF43DTNZrMJa322bcPSq+M4zWYTWkskEtlsFlQVWZZJsGo0GnVdl1xEmqYXGyqeyWTGk0hcf2BqkWHPZrOYmQsF9DUFcv2BALolzC+gYQEHy4NNxLKs+/fvk4U1BEEBvXhUVX348GGv11tUtcObYuTOs7MONGgU0BNJp9Ou64IKjyAooJeFLMvE+YsAnudls1ld123bTiaTkiStmP/u8s/1VCpl2zZWS0BQQC8dnuclScpms3jVCZDRBl5jAQE/juN8/vnn9XodnRsICuirwLIsyOh6qxwdyMVIp9ORSOTy2yIQ5DKs3Z5TjUaj7XYbwgMQZAawJRKlM4IaNIIgCHLrNWgEQRAU0AiCIAgKaARBkNXlfwMAAP//vT0tgpC172EAAAAASUVORK5CYII=)\n",
        "\n",
        "trong đó:\n",
        "  - Precision được định nghĩa là tỉ lệ số điểm true positive trong số những điểm được phân loại là positive (TP + FP).\n",
        "  - Recall được định nghĩa là tỉ lệ số điểm true positive trong số những điểm thực sự là positive (TP + FN).\n",
        "![Untitled.png](data:image/png;base64,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)\n",
        "\n",
        "\n",
        "\n",
        "### Mô tả dữ liệu:\n",
        "  - Dữ liệu được cung cấp khá đơn giản, chỉ chứa 3 cột\n",
        "    - times: mốc thời gian được ghi lại\n",
        "    - signal: giá trị tín hiệu điện(ampere) cho mỗi mốc thời gian, các giá trị này được đo ở tần số lấy mẫu là 10 kHz\n",
        "    - open_channels: số kênh mở tương ứng tại mốc thời gian đó(chỉ được cung cấp cho tập train)\n",
        "  - Files:\n",
        "* **train.csv**: \n",
        "* **test.csv** :\n",
        "* **sample_submission.csv**\n",
        "<br>"
      ]
    },
    {
      "cell_type": "markdown",
      "id": "d48122eb",
      "metadata": {
        "id": "d48122eb"
      },
      "source": [
        "## **Giải quyết bài toán**"
      ]
    },
    {
      "cell_type": "markdown",
      "id": "483e6c5d",
      "metadata": {
        "id": "483e6c5d"
      },
      "source": [
        "### 1. Ý tưởng: \n",
        "* Trong đồ án này, nhóm tìm hiểu và cài đặt lại phương pháp đứng thứ [3](https://github.com/GillesVandewiele/Liverpool-Ion-Switching) trên private leaderboard cho bài toán University of Liverpool - Ion Switching.\n",
        "* Tóm tắt các bước thực hiện:\n",
        "  - Tiền xử lý dữ liệu \n",
        "  - Sử dụng mô hình Markov ẩn\n",
        "  - Mở rộng mô hình Markov ẩn\n",
        "  - Hậu xử lý dữ liệu\n"
      ]
    },
    {
      "cell_type": "markdown",
      "source": [
        " ### 2. Lý do lựa chọn:\n",
        "\n",
        "  - Solution ..."
      ],
      "metadata": {
        "id": "kh4Va5UBrnP9"
      },
      "id": "kh4Va5UBrnP9"
    },
    {
      "cell_type": "markdown",
      "source": [
        "### 3. Cài đặt\n",
        "\n",
        "\n",
        "\n"
      ],
      "metadata": {
        "id": "YlaMU_gaZPuC"
      },
      "id": "YlaMU_gaZPuC"
    },
    {
      "cell_type": "markdown",
      "source": [
        "#### Import các thư viện cần thiết\n"
      ],
      "metadata": {
        "id": "iShcmdZuv2pP"
      },
      "id": "iShcmdZuv2pP"
    },
    {
      "cell_type": "code",
      "source": [
        "\n",
        "import numpy as np\n",
        "import pandas as pd\n",
        "\n",
        "%matplotlib inline\n",
        "import matplotlib.pyplot as plt\n",
        "\n",
        "from sklearn.linear_model import LinearRegression\n",
        "import scipy.optimize as opt\n",
        "from sklearn.metrics import f1_score\n"
      ],
      "metadata": {
        "id": "U4dqreQkzlPf"
      },
      "id": "U4dqreQkzlPf",
      "execution_count": null,
      "outputs": []
    },
    {
      "cell_type": "markdown",
      "source": [
        "#### Tiền xử lý"
      ],
      "metadata": {
        "id": "I1o1O0YSwSMm"
      },
      "id": "I1o1O0YSwSMm"
    },
    {
      "cell_type": "markdown",
      "source": [
        "##### 1.\n",
        "Chúng ta sử dụng phép biến đổi tuyến tính cho mỗi "
      ],
      "metadata": {
        "id": "4zRZgJ4uJkSD"
      },
      "id": "4zRZgJ4uJkSD"
    },
    {
      "cell_type": "code",
      "source": [
        "train = pd.read_csv('train_clean.csv')\n",
        "test = pd.read_csv('test_clean.csv')"
      ],
      "metadata": {
        "id": "cHqcihrzwbEQ"
      },
      "id": "cHqcihrzwbEQ",
      "execution_count": null,
      "outputs": []
    },
    {
      "cell_type": "code",
      "source": [
        "# The start of our batches (* 100_000)\n",
        "BATCHES = np.array([0, 5, 10, 15, 20, 25, 30, 35, 40, 45, 50, 51, 52, 53, 54, 55, 56, 57, 58, 59, 60, 65, 70])\n",
        "\n",
        "# The data categories of our batches (5 of them have been identified in Chris Deotte \n",
        "# \"One Feature Model notebook\"). But we have noticed a 6th type in the test data.\n",
        "CATEGORIES = np.array([1, 1, 2, 3, 5, 4, 2, 3, 4, 5, 6, 3, 4, 6, 2, 5, 4, 5, 6, 3, 6, 6])"
      ],
      "metadata": {
        "id": "JK2R6ftc18hJ"
      },
      "id": "JK2R6ftc18hJ",
      "execution_count": null,
      "outputs": []
    },
    {
      "cell_type": "code",
      "source": [
        "plt.figure(figsize=(15, 5))\n",
        "plt.plot(train['signal'], label='train signal', c='b', alpha=0.5)\n",
        "plt.plot(range(len(train), len(train) + len(test)), test['signal'], label='test signal', c='b', alpha=0.5)\n",
        "plt.plot(train['open_channels'], c='r', label='train open channels', alpha=0.5)\n",
        "plt.axvline(5_000_000, c='k', label='train/test split')\n",
        "plt.axvline(5_600_000, c='k', label='public/private split')\n",
        "plt.legend()\n",
        "plt.show()"
      ],
      "metadata": {
        "colab": {
          "base_uri": "https://localhost:8080/",
          "height": 333
        },
        "id": "Dr9tBXTR5yzT",
        "outputId": "f987628f-3575-41da-f8a7-8a48b553c10a"
      },
      "id": "Dr9tBXTR5yzT",
      "execution_count": null,
      "outputs": [
        {
          "output_type": "display_data",
          "data": {
            "text/plain": [
              "<Figure size 1080x360 with 1 Axes>"
            ],
            "image/png": "[encoded data removed]"
          },
          "metadata": {
            "needs_background": "light"
          }
        }
      ]
    },
    {
      "cell_type": "code",
      "source": [
        "for c in range(1, 6):\n",
        "    # Take the training data corresponding to this category\n",
        "    ix = np.where(CATEGORIES[:-11] == c)[0]\n",
        "    starts = BATCHES[ix]\n",
        "    ends = BATCHES[ix + 1]\n",
        "    X = []\n",
        "    y = []\n",
        "    for start, end in zip(starts, ends):\n",
        "        subsignal = train['signal'].values[start*100_000:end*100_000]\n",
        "        subtarget = train['open_channels'].values[start*100_000:end*100_000]\n",
        "        \n",
        "        # Skip the anomalous part between 3.6M - 3.9M\n",
        "        if start == 35:\n",
        "            subsignal = list(subsignal[:100_000]) + list(subsignal[-100_000:])\n",
        "            subtarget = list(subtarget[:100_000]) + list(subtarget[-100_000:])\n",
        "        \n",
        "        X.extend(subsignal)\n",
        "        y.extend(subtarget)\n",
        "    X = np.array(X)\n",
        "    y = np.array(y)\n",
        "    \n",
        "    # Create a dataframe with our values, than groupby the open channel\n",
        "    # values and take the mean\n",
        "    df = pd.DataFrame(np.hstack((X.reshape(-1, 1),\n",
        "                                 y.reshape(-1, 1))),\n",
        "                      columns=['X', 'y'])\n",
        "    means = df.groupby('y')[['X']].mean()\n",
        "    X = means['X'].values\n",
        "    y = means.index.values\n",
        "    \n",
        "    # Fit Linear Regression on the means.\n",
        "    lr = LinearRegression()\n",
        "    lr.fit(X.reshape(-1, 1), y)\n",
        "    print(c, lr.intercept_, lr.coef_)"
      ],
      "metadata": {
        "id": "kKdrRe_H6DRC",
        "colab": {
          "base_uri": "https://localhost:8080/",
          "height": 397
        },
        "outputId": "c5220085-1d02-43aa-b17c-d3249a4a3ebc"
      },
      "id": "kKdrRe_H6DRC",
      "execution_count": null,
      "outputs": [
        {
          "output_type": "stream",
          "name": "stdout",
          "text": [
            "1 2.197759496904231 [0.8078022]\n"
          ]
        },
        {
          "output_type": "error",
          "ename": "ValueError",
          "evalue": "ignored",
          "traceback": [
            "\u001b[0;31m---------------------------------------------------------------------------\u001b[0m",
            "\u001b[0;31mValueError\u001b[0m                                Traceback (most recent call last)",
            "\u001b[0;32m<ipython-input-24-5c4dcb9816b3>\u001b[0m in \u001b[0;36m<module>\u001b[0;34m()\u001b[0m\n\u001b[1;32m     31\u001b[0m     \u001b[0;31m# Fit Linear Regression on the means.\u001b[0m\u001b[0;34m\u001b[0m\u001b[0;34m\u001b[0m\u001b[0;34m\u001b[0m\u001b[0m\n\u001b[1;32m     32\u001b[0m     \u001b[0mlr\u001b[0m \u001b[0;34m=\u001b[0m \u001b[0mLinearRegression\u001b[0m\u001b[0;34m(\u001b[0m\u001b[0;34m)\u001b[0m\u001b[0;34m\u001b[0m\u001b[0;34m\u001b[0m\u001b[0m\n\u001b[0;32m---> 33\u001b[0;31m     \u001b[0mlr\u001b[0m\u001b[0;34m.\u001b[0m\u001b[0mfit\u001b[0m\u001b[0;34m(\u001b[0m\u001b[0mX\u001b[0m\u001b[0;34m.\u001b[0m\u001b[0mreshape\u001b[0m\u001b[0;34m(\u001b[0m\u001b[0;34m-\u001b[0m\u001b[0;36m1\u001b[0m\u001b[0;34m,\u001b[0m \u001b[0;36m1\u001b[0m\u001b[0;34m)\u001b[0m\u001b[0;34m,\u001b[0m \u001b[0my\u001b[0m\u001b[0;34m)\u001b[0m\u001b[0;34m\u001b[0m\u001b[0;34m\u001b[0m\u001b[0m\n\u001b[0m\u001b[1;32m     34\u001b[0m     \u001b[0mprint\u001b[0m\u001b[0;34m(\u001b[0m\u001b[0mc\u001b[0m\u001b[0;34m,\u001b[0m \u001b[0mlr\u001b[0m\u001b[0;34m.\u001b[0m\u001b[0mintercept_\u001b[0m\u001b[0;34m,\u001b[0m \u001b[0mlr\u001b[0m\u001b[0;34m.\u001b[0m\u001b[0mcoef_\u001b[0m\u001b[0;34m)\u001b[0m\u001b[0;34m\u001b[0m\u001b[0;34m\u001b[0m\u001b[0m\n",
            "\u001b[0;32m/usr/local/lib/python3.7/dist-packages/sklearn/linear_model/_base.py\u001b[0m in \u001b[0;36mfit\u001b[0;34m(self, X, y, sample_weight)\u001b[0m\n\u001b[1;32m    661\u001b[0m \u001b[0;34m\u001b[0m\u001b[0m\n\u001b[1;32m    662\u001b[0m         X, y = self._validate_data(\n\u001b[0;32m--> 663\u001b[0;31m             \u001b[0mX\u001b[0m\u001b[0;34m,\u001b[0m \u001b[0my\u001b[0m\u001b[0;34m,\u001b[0m \u001b[0maccept_sparse\u001b[0m\u001b[0;34m=\u001b[0m\u001b[0maccept_sparse\u001b[0m\u001b[0;34m,\u001b[0m \u001b[0my_numeric\u001b[0m\u001b[0;34m=\u001b[0m\u001b[0;32mTrue\u001b[0m\u001b[0;34m,\u001b[0m \u001b[0mmulti_output\u001b[0m\u001b[0;34m=\u001b[0m\u001b[0;32mTrue\u001b[0m\u001b[0;34m\u001b[0m\u001b[0;34m\u001b[0m\u001b[0m\n\u001b[0m\u001b[1;32m    664\u001b[0m         )\n\u001b[1;32m    665\u001b[0m \u001b[0;34m\u001b[0m\u001b[0m\n",
            "\u001b[0;32m/usr/local/lib/python3.7/dist-packages/sklearn/base.py\u001b[0m in \u001b[0;36m_validate_data\u001b[0;34m(self, X, y, reset, validate_separately, **check_params)\u001b[0m\n\u001b[1;32m    579\u001b[0m                 \u001b[0my\u001b[0m \u001b[0;34m=\u001b[0m \u001b[0mcheck_array\u001b[0m\u001b[0;34m(\u001b[0m\u001b[0my\u001b[0m\u001b[0;34m,\u001b[0m \u001b[0;34m**\u001b[0m\u001b[0mcheck_y_params\u001b[0m\u001b[0;34m)\u001b[0m\u001b[0;34m\u001b[0m\u001b[0;34m\u001b[0m\u001b[0m\n\u001b[1;32m    580\u001b[0m             \u001b[0;32melse\u001b[0m\u001b[0;34m:\u001b[0m\u001b[0;34m\u001b[0m\u001b[0;34m\u001b[0m\u001b[0m\n\u001b[0;32m--> 581\u001b[0;31m                 \u001b[0mX\u001b[0m\u001b[0;34m,\u001b[0m \u001b[0my\u001b[0m \u001b[0;34m=\u001b[0m \u001b[0mcheck_X_y\u001b[0m\u001b[0;34m(\u001b[0m\u001b[0mX\u001b[0m\u001b[0;34m,\u001b[0m \u001b[0my\u001b[0m\u001b[0;34m,\u001b[0m \u001b[0;34m**\u001b[0m\u001b[0mcheck_params\u001b[0m\u001b[0;34m)\u001b[0m\u001b[0;34m\u001b[0m\u001b[0;34m\u001b[0m\u001b[0m\n\u001b[0m\u001b[1;32m    582\u001b[0m             \u001b[0mout\u001b[0m \u001b[0;34m=\u001b[0m \u001b[0mX\u001b[0m\u001b[0;34m,\u001b[0m \u001b[0my\u001b[0m\u001b[0;34m\u001b[0m\u001b[0;34m\u001b[0m\u001b[0m\n\u001b[1;32m    583\u001b[0m \u001b[0;34m\u001b[0m\u001b[0m\n",
            "\u001b[0;32m/usr/local/lib/python3.7/dist-packages/sklearn/utils/validation.py\u001b[0m in \u001b[0;36mcheck_X_y\u001b[0;34m(X, y, accept_sparse, accept_large_sparse, dtype, order, copy, force_all_finite, ensure_2d, allow_nd, multi_output, ensure_min_samples, ensure_min_features, y_numeric, estimator)\u001b[0m\n\u001b[1;32m    974\u001b[0m         \u001b[0mensure_min_samples\u001b[0m\u001b[0;34m=\u001b[0m\u001b[0mensure_min_samples\u001b[0m\u001b[0;34m,\u001b[0m\u001b[0;34m\u001b[0m\u001b[0;34m\u001b[0m\u001b[0m\n\u001b[1;32m    975\u001b[0m         \u001b[0mensure_min_features\u001b[0m\u001b[0;34m=\u001b[0m\u001b[0mensure_min_features\u001b[0m\u001b[0;34m,\u001b[0m\u001b[0;34m\u001b[0m\u001b[0;34m\u001b[0m\u001b[0m\n\u001b[0;32m--> 976\u001b[0;31m         \u001b[0mestimator\u001b[0m\u001b[0;34m=\u001b[0m\u001b[0mestimator\u001b[0m\u001b[0;34m,\u001b[0m\u001b[0;34m\u001b[0m\u001b[0;34m\u001b[0m\u001b[0m\n\u001b[0m\u001b[1;32m    977\u001b[0m     )\n\u001b[1;32m    978\u001b[0m \u001b[0;34m\u001b[0m\u001b[0m\n",
            "\u001b[0;32m/usr/local/lib/python3.7/dist-packages/sklearn/utils/validation.py\u001b[0m in \u001b[0;36mcheck_array\u001b[0;34m(array, accept_sparse, accept_large_sparse, dtype, order, copy, force_all_finite, ensure_2d, allow_nd, ensure_min_samples, ensure_min_features, estimator)\u001b[0m\n\u001b[1;32m    806\u001b[0m                 \u001b[0;34m\"Found array with %d sample(s) (shape=%s) while a\"\u001b[0m\u001b[0;34m\u001b[0m\u001b[0;34m\u001b[0m\u001b[0m\n\u001b[1;32m    807\u001b[0m                 \u001b[0;34m\" minimum of %d is required%s.\"\u001b[0m\u001b[0;34m\u001b[0m\u001b[0;34m\u001b[0m\u001b[0m\n\u001b[0;32m--> 808\u001b[0;31m                 \u001b[0;34m%\u001b[0m \u001b[0;34m(\u001b[0m\u001b[0mn_samples\u001b[0m\u001b[0;34m,\u001b[0m \u001b[0marray\u001b[0m\u001b[0;34m.\u001b[0m\u001b[0mshape\u001b[0m\u001b[0;34m,\u001b[0m \u001b[0mensure_min_samples\u001b[0m\u001b[0;34m,\u001b[0m \u001b[0mcontext\u001b[0m\u001b[0;34m)\u001b[0m\u001b[0;34m\u001b[0m\u001b[0;34m\u001b[0m\u001b[0m\n\u001b[0m\u001b[1;32m    809\u001b[0m             )\n\u001b[1;32m    810\u001b[0m \u001b[0;34m\u001b[0m\u001b[0m\n",
            "\u001b[0;31mValueError\u001b[0m: Found array with 0 sample(s) (shape=(0, 1)) while a minimum of 1 is required."
          ]
        }
      ]
    },
    {
      "cell_type": "code",
      "source": [
        "# As we tuned the entire pipeline during the competition, we also adjusted these\n",
        "# values a little bit and checked the impact on our training F1 score. Below\n",
        "# are our final values:\n",
        "OFFSETS = [2.180783, 2.221318, 2.221318, 2.221318, 4.4288541, 2.221318]\n",
        "SLOPE = 0.8107\n",
        "\n",
        "signal = np.concatenate((train['signal'].values, test['signal'].values))\n",
        "for i, (start, end) in enumerate(zip(BATCHES[:-1], BATCHES[1:])):\n",
        "    c = CATEGORIES[i] - 1\n",
        "    signal[start*100_000:end*100_000] = OFFSETS[c] + SLOPE * signal[start*100_000:end*100_000]\n",
        "\n",
        "train['signal'] = signal[:5_000_000]\n",
        "test['signal'] = signal[5_000_000:]"
      ],
      "metadata": {
        "id": "SvGSr3HR6SdE"
      },
      "id": "SvGSr3HR6SdE",
      "execution_count": null,
      "outputs": []
    },
    {
      "cell_type": "code",
      "source": [
        "plt.figure(figsize=(15, 5))\n",
        "plt.plot(train['signal'], label='train signal', c='b', alpha=0.5)\n",
        "plt.plot(range(len(train), len(train) + len(test)), test['signal'], label='test signal', c='b', alpha=0.5)\n",
        "plt.plot(train['open_channels'], c='r', label='train open channels', alpha=0.5)\n",
        "plt.axvline(5_000_000, c='k', label='train/test split')\n",
        "plt.axvline(5_600_000, c='k', label='public/private split')\n",
        "plt.legend()\n",
        "plt.show()"
      ],
      "metadata": {
        "id": "Ie7f9W1j6TRS"
      },
      "id": "Ie7f9W1j6TRS",
      "execution_count": null,
      "outputs": []
    },
    {
      "cell_type": "code",
      "source": [
        "# Let's check what our F1 score would be if we just round our signal values\n",
        "good_ids = list(range(0, 3_600_000)) + list(range(3_900_000, 5_000_000))\n",
        "f1_score(train['open_channels'].values[good_ids], \n",
        "         np.clip(np.round(train['signal'].values[good_ids]).astype(int), 0, 10), \n",
        "         average='macro')"
      ],
      "metadata": {
        "id": "Mnt5De1q6VMa"
      },
      "id": "Mnt5De1q6VMa",
      "execution_count": null,
      "outputs": []
    },
    {
      "cell_type": "code",
      "source": [
        "train.to_csv('train_1.csv', index=False)\n",
        "test.to_csv('test_1.csv', index=False)"
      ],
      "metadata": {
        "id": "8oiTMhVX6ZuK"
      },
      "id": "8oiTMhVX6ZuK",
      "execution_count": null,
      "outputs": []
    },
    {
      "cell_type": "markdown",
      "source": [
        ""
      ],
      "metadata": {
        "id": "V3w3DE-i6qHj"
      },
      "id": "V3w3DE-i6qHj"
    },
    {
      "cell_type": "code",
      "source": [
        "# Use the result from previous notebook\n",
        "train = pd.read_csv('train_1.csv')\n",
        "test = pd.read_csv('test_1.csv')\n",
        "predictions = pd.read_csv('Ys.csv', index_col=None, skiprows=1, header=None).values.flatten()"
      ],
      "metadata": {
        "id": "9A4bF3W66a2a"
      },
      "id": "9A4bF3W66a2a",
      "execution_count": null,
      "outputs": []
    },
    {
      "cell_type": "code",
      "source": [
        ""
      ],
      "metadata": {
        "id": "oT35JHFZ7UV-"
      },
      "id": "oT35JHFZ7UV-",
      "execution_count": null,
      "outputs": []
    },
    {
      "cell_type": "markdown",
      "id": "337c34ef",
      "metadata": {
        "id": "337c34ef"
      },
      "source": [
        "## Nhìn lại quá trình làm đồ án"
      ]
    },
    {
      "cell_type": "markdown",
      "id": "72079acf",
      "metadata": {
        "id": "72079acf"
      },
      "source": [
        "Sau bao ngày vất vả làm đồ án thì bây giờ đã kết thúc. Bây giờ là lúc để ngồi uống coffee và tĩnh tâm nhìn lại quá trình làm.\n",
        "\n",
        "- Mỗi thành viên: Đã gặp những khó khăn gì? (Hay mọi chuyện đều thuận lợi)\n",
        "- Mỗi thành viên: Có học được gì hữu ích? (Hay không học được gì)\n",
        "- Nhóm: Nếu có thêm thời gian thì sẽ làm gì?\n",
        "\n",
        "Phần này có sao thì bạn nói vậy thôi, chứ không phải là viết\n",
        "cho có, hoặc tự chế ra để nghe cho hay."
      ]
    },
    {
      "cell_type": "markdown",
      "id": "4ae45e1e",
      "metadata": {
        "id": "4ae45e1e"
      },
      "source": [
        "## Tài liệu tham khảo"
      ]
    },
    {
      "cell_type": "markdown",
      "id": "9701b2bd",
      "metadata": {
        "id": "9701b2bd"
      },
      "source": [
        "Để hoàn thành đồ án này, nhóm bạn đã tham khảo những tài liệu nào?"
      ]
    }
  ],
  "metadata": {
    "kernelspec": {
      "display_name": "Python 3 (ipykernel)",
      "language": "python",
      "name": "python3"
    },
    "language_info": {
      "codemirror_mode": {
        "name": "ipython",
        "version": 3
      },
      "file_extension": ".py",
      "mimetype": "text/x-python",
      "name": "python",
      "nbconvert_exporter": "python",
      "pygments_lexer": "ipython3",
      "version": "3.8.8"
    },
    "latex_envs": {
      "LaTeX_envs_menu_present": true,
      "autoclose": false,
      "autocomplete": true,
      "bibliofile": "biblio.bib",
      "cite_by": "apalike",
      "current_citInitial": 1,
      "eqLabelWithNumbers": true,
      "eqNumInitial": 1,
      "hotkeys": {
        "equation": "Ctrl-E",
        "itemize": "Ctrl-I"
      },
      "labels_anchors": false,
      "latex_user_defs": false,
      "report_style_numbering": false,
      "user_envs_cfg": false
    },
    "toc": {
      "base_numbering": 1,
      "nav_menu": {},
      "number_sections": true,
      "sideBar": true,
      "skip_h1_title": false,
      "title_cell": "Table of Contents",
      "title_sidebar": "Contents",
      "toc_cell": false,
      "toc_position": {},
      "toc_section_display": true,
      "toc_window_display": false
    },
    "colab": {
      "name": "Report.ipynb",
      "provenance": [],
      "collapsed_sections": [
        "iShcmdZuv2pP",
        "4ae45e1e"
      ]
    }
  },
  "nbformat": 4,
  "nbformat_minor": 5
}