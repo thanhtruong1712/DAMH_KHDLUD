{
  "cells": [
    {
      "cell_type": "markdown",
      "id": "5b2dcf7c",
      "metadata": {
        "id": "5b2dcf7c"
      },
      "source": [
        "# **Báo cáo đồ án môn \"Khoa học dữ liệu ứng dụng\"**\n",
        "\n",
        "Nhóm 7:\n",
        "1. 1712770 - Trương Thị Lệ Thanh - thanhtruong1712\n",
        "2. 1712771 - Bùi Thái Tấn Thành - thanhtan0501\n",
        "3. 1712778 - Thống A Thảo - thaothong21\n",
        "\n",
        "Link thùng chứa Github của nhóm: [https://github.com/thanhtruong1712/DAMH_KHDLUD]"
      ]
    },
    {
      "cell_type": "markdown",
      "id": "2f93d974",
      "metadata": {
        "id": "2f93d974"
      },
      "source": [
        "## **Mô tả bài toán**"
      ]
    },
    {
      "cell_type": "markdown",
      "id": "dc0bf646",
      "metadata": {
        "id": "dc0bf646"
      },
      "source": [
        "### Giới thiệu bài toán\n",
        "\n",
        "* **Tên cuộc thi**: [Jigsaw Rate Severity of Toxic Comments](https://www.kaggle.com/competitions/jigsaw-toxic-severity-rating)\n",
        "* **Mô tả**: Đây là cuộc thi được tổ chức bởi Jigsaw vào 09/11/2021 với 2301 nhóm tham dự. Xuất phát từ việc Jigsaw hỏi mọi người đánh giá về bình luận cá nhân khi không biết bối cảnh của bình luận đó để đánh giá bình luận nào là độc hại, không độc hại. Nhưng nhiều người có cảm giác độc hại khác nhau loại độc hại (ví dụ người cảm thấy ngôn từ thù địch độc hại hơn ngôn từ tục tĩu...). Để giải quyết nó thì Jigsaw tập hợp đánh giá của nhiều người. Nhưng các chuyên gia thì chỉ ra rằng loại bỏ các thông tin có ý nghĩa. Và rồi để đơn giản hơn, Jigsaw đã cho mọi người đánh giá trên mỗi cặp bình luận, cặp nào là độc hại hơn. Nhưng có vấn đề, khi hai tập có rõ ràng về tính độc hại thì lựa chọn của mọi người đa số sẽ chính xác. Nhưng nếu hai tập là không độc hại mọi người thường chọn ngẫu nhiên. Các cặp bình luận cũng được cho các chuyên gia đánh giá. Và ở đây, ta phải cho điểm để có thể giống với các chuyên gia ở Jigsaw nhất.\n",
        "* **Input**: Tập dữ liệu khoảng 14000 bình luận được cung cấp bởi Jigsaw\n",
        "* **Output**: Dự đoán điểm thể hiện mức độ độc hại tương đối của các bình luận.\n",
        "\n",
        "### Mô tả dữ liệu:\n",
        "Nhiệm vụ của nhóm là dự đoán điểm thể hiện mức độ độc hại tương đối của bình luận. Bình luận nào có mức độ độc hại cao hơn sẽ nhận được điểm số cao hơn so với bình luận có mức độ độc hại thấp hơn.\n",
        "### Mô tả Files:\n",
        "* **comments_to_score.csv** - Chứa Id và nội dung của các bình luận.\n",
        "* **validation_data.csv** - Chứa các cặp bình luận được đánh giá là ` độc hại ít ` và `độc hại nhiều`.\n",
        "* **sample_submission.csv** - File mẫu để nộp lên Kaggle\n",
        "* **leaderboard.csv** - File chấm điểm của cuộc thi.\n",
        "<br>"
      ]
    },
    {
      "cell_type": "markdown",
      "id": "d48122eb",
      "metadata": {
        "id": "d48122eb"
      },
      "source": [
        "## **Giải quyết bài toán**"
      ]
    },
    {
      "cell_type": "markdown",
      "id": "483e6c5d",
      "metadata": {
        "id": "483e6c5d"
      },
      "source": [
        "### 1. Ý tưởng: \n",
        "* Trong đồ án này, nhóm tìm hiểu và cài đặt lại phương pháp đứng thứ [5](https://www.kaggle.com/competitions/jigsaw-toxic-severity-rating/discussion/306390) trên private leaderboard cho bài toán Jigsaw Rate Severity of Toxic Comments.\n",
        "* Tác giả đã thực hiện các bước:\n",
        "  - Làm sạch nội dung các bình luận bằng cách loại bỏ tags HTML, URL links, biểu tượng cảm xúc, dấu chấm câu, ký tự đặc biệt,...\n",
        "  -  Sử dụng tập dữ liệu Ruddit để huấn luyện trên 2 model với MarginRankingLoss:\n",
        "    + `roberta-large` với lớp tuyến tính\n",
        "    + `unitary/unbiased-toxic-roberta` với lớp tuyến tính\n",
        "  - Sử dụng tập dữ liệu comments_to_score huyến luyện trên 3 mô hình khác:\n",
        "   + Tfidf + RIDGE\n",
        "   + unitary/unbiased-toxic-roberta with custom linear layer with MSELoss\n",
        "   + unitary/unbiased-toxic-roberta with custom attention layer with MSELoss\n",
        "  - Tính toán chỉ số cho các thuật toán, chọn mô hình tốt nhất để dự đoán điểm số cho bình luận\n",
        "\n",
        "\n"
      ]
    },
    {
      "cell_type": "markdown",
      "source": [
        "### 2. Lý do lựa chọn:\n",
        "\n",
        "  - Tác giả viết chi tiết về solution"
      ],
      "metadata": {
        "id": "kh4Va5UBrnP9"
      },
      "id": "kh4Va5UBrnP9"
    },
    {
      "cell_type": "markdown",
      "id": "337c34ef",
      "metadata": {
        "id": "337c34ef"
      },
      "source": [
        "## Nhìn lại quá trình làm đồ án"
      ]
    },
    {
      "cell_type": "markdown",
      "id": "72079acf",
      "metadata": {
        "id": "72079acf"
      },
      "source": [
        "Sau bao ngày vất vả làm đồ án thì bây giờ đã kết thúc. Bây giờ là lúc để ngồi uống coffee và tĩnh tâm nhìn lại quá trình làm.\n",
        "\n",
        "- Mỗi thành viên: Đã gặp những khó khăn gì? (Hay mọi chuyện đều thuận lợi)\n",
        "- Mỗi thành viên: Có học được gì hữu ích? (Hay không học được gì)\n",
        "- Nhóm: Nếu có thêm thời gian thì sẽ làm gì?\n",
        "\n",
        "Phần này có sao thì bạn nói vậy thôi, chứ không phải là viết\n",
        "cho có, hoặc tự chế ra để nghe cho hay."
      ]
    },
    {
      "cell_type": "markdown",
      "id": "4ae45e1e",
      "metadata": {
        "id": "4ae45e1e"
      },
      "source": [
        "## Tài liệu tham khảo"
      ]
    },
    {
      "cell_type": "markdown",
      "id": "9701b2bd",
      "metadata": {
        "id": "9701b2bd"
      },
      "source": [
        "Để hoàn thành đồ án này, nhóm bạn đã tham khảo những tài liệu nào?"
      ]
    }
  ],
  "metadata": {
    "kernelspec": {
      "display_name": "Python 3 (ipykernel)",
      "language": "python",
      "name": "python3"
    },
    "language_info": {
      "codemirror_mode": {
        "name": "ipython",
        "version": 3
      },
      "file_extension": ".py",
      "mimetype": "text/x-python",
      "name": "python",
      "nbconvert_exporter": "python",
      "pygments_lexer": "ipython3",
      "version": "3.8.8"
    },
    "latex_envs": {
      "LaTeX_envs_menu_present": true,
      "autoclose": false,
      "autocomplete": true,
      "bibliofile": "biblio.bib",
      "cite_by": "apalike",
      "current_citInitial": 1,
      "eqLabelWithNumbers": true,
      "eqNumInitial": 1,
      "hotkeys": {
        "equation": "Ctrl-E",
        "itemize": "Ctrl-I"
      },
      "labels_anchors": false,
      "latex_user_defs": false,
      "report_style_numbering": false,
      "user_envs_cfg": false
    },
    "toc": {
      "base_numbering": 1,
      "nav_menu": {},
      "number_sections": true,
      "sideBar": true,
      "skip_h1_title": false,
      "title_cell": "Table of Contents",
      "title_sidebar": "Contents",
      "toc_cell": false,
      "toc_position": {},
      "toc_section_display": true,
      "toc_window_display": false
    },
    "colab": {
      "name": "Report.ipynb",
      "provenance": [],
      "collapsed_sections": [
        "d48122eb",
        "337c34ef",
        "4ae45e1e"
      ]
    }
  },
  "nbformat": 4,
  "nbformat_minor": 5
}